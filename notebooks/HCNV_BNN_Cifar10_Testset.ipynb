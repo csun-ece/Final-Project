{
 "cells": [
  {
   "cell_type": "markdown",
   "metadata": {},
   "source": [
    "# Cifar-10 testset classification on Pynq\n",
    "\n",
    "This notebook covers how to use low quantized neural networks on Pynq. \n",
    "It shows an example how CIFAR-10 testset can be inferred utilizing a convolutional neural network featuring 3 convolutional layers, 2 max pool layers and 3 fully connected layers. There is 1 precision available:\n",
    "\n",
    "- CNV_h1_W1A1 using 1 bit weights and 1 bit activation,"
   ]
  },
  {
   "cell_type": "markdown",
   "metadata": {},
   "source": [
    "## 1. Import the package"
   ]
  },
  {
   "cell_type": "code",
   "execution_count": 1,
   "metadata": {},
   "outputs": [
    {
     "data": {
      "application/javascript": [
       "\n",
       "require(['notebook/js/codecell'], function(codecell) {\n",
       "  codecell.CodeCell.options_default.highlight_modes[\n",
       "      'magic_text/x-csrc'] = {'reg':[/^%%microblaze/]};\n",
       "  Jupyter.notebook.events.one('kernel_ready.Kernel', function(){\n",
       "      Jupyter.notebook.get_cells().map(function(cell){\n",
       "          if (cell.cell_type == 'code'){ cell.auto_highlight(); } }) ;\n",
       "  });\n",
       "});\n"
      ]
     },
     "metadata": {},
     "output_type": "display_data"
    }
   ],
   "source": [
    "import bnn"
   ]
  },
  {
   "cell_type": "markdown",
   "metadata": {},
   "source": [
    "## 2. The Cifar-10 testset\n",
    "\n",
    "This notebook required the testset from https://www.cs.toronto.edu/~kriz/cifar.html which contains 10000 images that can be processed by CNV network directly without preprocessing.\n",
    "\n",
    "You can download the cifar-10 set from given url via wget and unzip it to a folder on Pynq as shown below.\n",
    "This may take a while as the training set is included in the archive as well.\n",
    "After that we need to read the labels from the binary file to be able to compare the results later:"
   ]
  },
  {
   "cell_type": "code",
   "execution_count": 3,
   "metadata": {},
   "outputs": [
    {
     "name": "stdout",
     "output_type": "stream",
     "text": [
      "--2020-04-12 13:17:05--  https://www.cs.toronto.edu/~kriz/cifar-10-binary.tar.gz\n",
      "Resolving www.cs.toronto.edu (www.cs.toronto.edu)... 128.100.3.30\n",
      "Connecting to www.cs.toronto.edu (www.cs.toronto.edu)|128.100.3.30|:443... connected.\n",
      "HTTP request sent, awaiting response... 200 OK\n",
      "Length: 170052171 (162M) [application/x-gzip]\n",
      "Saving to: ‘cifar-10-binary.tar.gz’\n",
      "\n",
      "cifar-10-binary.tar 100%[===================>] 162.17M  8.00MB/s    in 19s     \n",
      "\n",
      "2020-04-12 13:17:25 (8.59 MB/s) - ‘cifar-10-binary.tar.gz’ saved [170052171/170052171]\n",
      "\n"
     ]
    }
   ],
   "source": [
    "#get\n",
    "!wget https://www.cs.toronto.edu/~kriz/cifar-10-binary.tar.gz\n",
    "#unzip\n",
    "!tar -xf cifar-10-binary.tar.gz\n",
    "\n",
    "labels = []\n",
    "with open(\"/home/xilinx/jupyter_notebooks/bnn/cifar-10-batches-bin/test_batch.bin\", \"rb\") as file:\n",
    "    #for 10000 pictures\n",
    "    for i in range(10000):\n",
    "        #read first byte -> label\n",
    "        labels.append(int.from_bytes(file.read(1), byteorder=\"big\"))\n",
    "        #read image (3072 bytes) and do nothing with it\n",
    "        file.read(3072)\n",
    "    file.close()"
   ]
  },
  {
   "cell_type": "markdown",
   "metadata": {},
   "source": [
    "## 3. Start inference\n",
    "\n",
    "The inference can be performed with different precision for weights and activation. Creating a specific Classifier will automatically download the correct bitstream onto PL and load the weights and thresholds trained on the specific dataset. \n",
    "\n",
    "Thus that images are already Cifar-10 preformatted no preprocessing is required. Therefor the functions `classify_cifar` or `classify_cifars` can be used. When classifying non Cifar-10 formatted pictures refer to `classify_image` or `classify_images`  (see Notebook CNV-QNN_Cifar10).\n",
    "\n",
    "### Case 1: \n",
    "#### W1A1 - 1 bit weight and 1 activation\n",
    "\n",
    "Instantiate the classifier:"
   ]
  },
  {
   "cell_type": "code",
   "execution_count": 4,
   "metadata": {},
   "outputs": [
    {
     "name": "stdout",
     "output_type": "stream",
     "text": [
      "[DEBUG] Datasets: ['chars_merged', 'streetview', 'cifar10', 'road-signs', 'mnist']\n",
      "[DEBUG] ret: ['cifar10']\n",
      "[DEBUG] Initializing PynqBNN class . . . \n",
      "\truntime: python_hw\n",
      "\tnetwork: hcnvW1A1\n",
      "[DEBUG] Overlay Loaded\n",
      "[DEBUG] Loading python_hw-hcnvW1A1-Zybo-Z7.so . . . \n",
      "[DEBUG] PynqBNN class initialized.\n",
      "[DEBUG] Sourcing params at: /usr/local/lib/python3.6/dist-packages/bnn/params/cifar10/hcnvW1A1\n"
     ]
    }
   ],
   "source": [
    "hw_classifier = bnn.CnvClassifier(bnn.NETWORK_HCNVW1A1,'cifar10',bnn.RUNTIME_HW)"
   ]
  },
  {
   "cell_type": "markdown",
   "metadata": {},
   "source": [
    "And start the inference on Cifar-10 preformatted multiple images:"
   ]
  },
  {
   "cell_type": "code",
   "execution_count": 5,
   "metadata": {},
   "outputs": [
    {
     "name": "stdout",
     "output_type": "stream",
     "text": [
      "Inference took 3933922.12 microseconds, 393.39 usec per image\n",
      "Classification rate: 2541.99 images per second\n"
     ]
    }
   ],
   "source": [
    "result_W1A1 = hw_classifier.classify_cifars(\"/home/xilinx/jupyter_notebooks/bnn/cifar-10-batches-bin/test_batch.bin\")\n",
    "time_W1A1 = hw_classifier.usecPerImage"
   ]
  },
  {
   "cell_type": "markdown",
   "metadata": {},
   "source": [
    "### Accuracy\n",
    "\n",
    "The accuracy on the testset can be calculated by comparing the inferred labels against the one read at the beginning:\n"
   ]
  },
  {
   "cell_type": "code",
   "execution_count": 6,
   "metadata": {},
   "outputs": [
    {
     "name": "stdout",
     "output_type": "stream",
     "text": [
      "Accuracy W1A1:  61.18 %\n"
     ]
    }
   ],
   "source": [
    "#compare against labels\n",
    "countRight = 0\n",
    "for idx in range(len(labels)):\n",
    "    if labels[idx] == result_W1A1[idx]:\n",
    "        countRight += 1\n",
    "accuracyW1A1 = countRight*100/len(labels)\n",
    "\n",
    "print(\"Accuracy W1A1: \",accuracyW1A1,\"%\")"
   ]
  },
  {
   "cell_type": "markdown",
   "metadata": {},
   "source": [
    "## 6. Reset the device"
   ]
  },
  {
   "cell_type": "code",
   "execution_count": 7,
   "metadata": {},
   "outputs": [],
   "source": [
    "from pynq import Xlnk\n",
    "\n",
    "xlnk = Xlnk()\n",
    "xlnk.xlnk_reset()"
   ]
  },
  {
   "cell_type": "code",
   "execution_count": null,
   "metadata": {},
   "outputs": [],
   "source": []
  }
 ],
 "metadata": {
  "kernelspec": {
   "display_name": "Python 3",
   "language": "python",
   "name": "python3"
  },
  "language_info": {
   "codemirror_mode": {
    "name": "ipython",
    "version": 3
   },
   "file_extension": ".py",
   "mimetype": "text/x-python",
   "name": "python",
   "nbconvert_exporter": "python",
   "pygments_lexer": "ipython3",
   "version": "3.7.3"
  }
 },
 "nbformat": 4,
 "nbformat_minor": 1
}
